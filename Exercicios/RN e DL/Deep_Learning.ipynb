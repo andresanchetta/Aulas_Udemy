{
  "nbformat": 4,
  "nbformat_minor": 0,
  "metadata": {
    "colab": {
      "name": "Deep Learning.ipynb",
      "provenance": [],
      "authorship_tag": "ABX9TyOBd3XlJJiAihJJPshCm96q",
      "include_colab_link": true
    },
    "kernelspec": {
      "name": "python3",
      "display_name": "Python 3"
    },
    "language_info": {
      "name": "python"
    }
  },
  "cells": [
    {
      "cell_type": "markdown",
      "metadata": {
        "id": "view-in-github",
        "colab_type": "text"
      },
      "source": [
        "<a href=\"https://colab.research.google.com/github/andresanchetta/Aulas_Udemy/blob/main/Exercicios/RN%20e%20DL/Deep_Learning.ipynb\" target=\"_parent\"><img src=\"https://colab.research.google.com/assets/colab-badge.svg\" alt=\"Open In Colab\"/></a>"
      ]
    },
    {
      "cell_type": "code",
      "metadata": {
        "id": "Xo_1rhkMWNxb"
      },
      "source": [
        "# Importação das bibliotecas\n",
        "import matplotlib.pyplot as plt\n",
        "from keras.models import Sequential\n",
        "from keras.layers import Dense, Dropout\n",
        "from keras.utils import np_utils\n",
        "import numpy as np\n",
        "from sklearn.metrics import confusion_matrix\n",
        "from keras.datasets import mnist"
      ],
      "execution_count": 1,
      "outputs": []
    },
    {
      "cell_type": "markdown",
      "metadata": {
        "id": "un26GX49WbhF"
      },
      "source": [
        "Código utilizará a técnica de deep learning para identificar caracteres numéricos escritos a mão, a obtenção desses dados se da pela biblioteca ```keras.dataset```.  \n",
        "Essa base de dados possui 60 mil exemplos de treino e 10 mil exemplos de teste.  \n",
        "Consiste em instancias com 785 atributos, sendo 784 valores de RGB que compoem a matrix 28x28 da imagem e a ultimo atributo o qual classifica qual o número escrito, nosso target.  \n",
        "É possivel saber mais sobre o data set em: http://yann.lecun.com/exdb/mnist/"
      ]
    },
    {
      "cell_type": "code",
      "metadata": {
        "colab": {
          "base_uri": "https://localhost:8080/",
          "height": 334
        },
        "id": "mFmBIDZhWXvw",
        "outputId": "29aa1346-5bcf-42e3-d853-423e24315177"
      },
      "source": [
        "# Obtenção dos dados e divisão automática entre treinamento e teste\n",
        "(X_treinamento, y_treinamento), (X_teste, y_teste) = mnist.load_data()\n",
        "# Visualização de imagens específicas\n",
        "plt.imshow(X_treinamento[21], cmap = 'gray')\n",
        "plt.title(y_treinamento[21])"
      ],
      "execution_count": 2,
      "outputs": [
        {
          "output_type": "stream",
          "text": [
            "Downloading data from https://storage.googleapis.com/tensorflow/tf-keras-datasets/mnist.npz\n",
            "11493376/11490434 [==============================] - 0s 0us/step\n"
          ],
          "name": "stdout"
        },
        {
          "output_type": "execute_result",
          "data": {
            "text/plain": [
              "Text(0.5, 1.0, '0')"
            ]
          },
          "metadata": {
            "tags": []
          },
          "execution_count": 2
        },
        {
          "output_type": "display_data",
          "data": {
            "image/png": "[encoded data removed]",
            "text/plain": [
              "<Figure size 432x288 with 1 Axes>"
            ]
          },
          "metadata": {
            "tags": [],
            "needs_background": "light"
          }
        }
      ]
    },
    {
      "cell_type": "code",
      "metadata": {
        "colab": {
          "base_uri": "https://localhost:8080/"
        },
        "id": "p52NGsCUXEge",
        "outputId": "6f66b647-be36-47e7-85f8-7a5507514a2c"
      },
      "source": [
        "# Mudança de dimensão, originalmente está em 28x28 e precisamos 784\n",
        "X_treinamento = X_treinamento.reshape((len(X_treinamento), np.prod(X_treinamento.shape[1:])))\n",
        "X_teste = X_teste.reshape((len(X_teste), np.prod(X_teste.shape[1:])))\n",
        "X_teste[0]"
      ],
      "execution_count": 3,
      "outputs": [
        {
          "output_type": "execute_result",
          "data": {
            "text/plain": [
              "array([  0,   0,   0,   0,   0,   0,   0,   0,   0,   0,   0,   0,   0,\n",
              "         0,   0,   0,   0,   0,   0,   0,   0,   0,   0,   0,   0,   0,\n",
              "         0,   0,   0,   0,   0,   0,   0,   0,   0,   0,   0,   0,   0,\n",
              "         0,   0,   0,   0,   0,   0,   0,   0,   0,   0,   0,   0,   0,\n",
              "         0,   0,   0,   0,   0,   0,   0,   0,   0,   0,   0,   0,   0,\n",
              "         0,   0,   0,   0,   0,   0,   0,   0,   0,   0,   0,   0,   0,\n",
              "         0,   0,   0,   0,   0,   0,   0,   0,   0,   0,   0,   0,   0,\n",
              "         0,   0,   0,   0,   0,   0,   0,   0,   0,   0,   0,   0,   0,\n",
              "         0,   0,   0,   0,   0,   0,   0,   0,   0,   0,   0,   0,   0,\n",
              "         0,   0,   0,   0,   0,   0,   0,   0,   0,   0,   0,   0,   0,\n",
              "         0,   0,   0,   0,   0,   0,   0,   0,   0,   0,   0,   0,   0,\n",
              "         0,   0,   0,   0,   0,   0,   0,   0,   0,   0,   0,   0,   0,\n",
              "         0,   0,   0,   0,   0,   0,   0,   0,   0,   0,   0,   0,   0,\n",
              "         0,   0,   0,   0,   0,   0,   0,   0,   0,   0,   0,   0,   0,\n",
              "         0,   0,   0,   0,   0,   0,   0,   0,   0,   0,   0,   0,   0,\n",
              "         0,   0,   0,   0,   0,   0,   0,  84, 185, 159, 151,  60,  36,\n",
              "         0,   0,   0,   0,   0,   0,   0,   0,   0,   0,   0,   0,   0,\n",
              "         0,   0,   0,   0,   0,   0,   0,   0,   0, 222, 254, 254, 254,\n",
              "       254, 241, 198, 198, 198, 198, 198, 198, 198, 198, 170,  52,   0,\n",
              "         0,   0,   0,   0,   0,   0,   0,   0,   0,   0,   0,  67, 114,\n",
              "        72, 114, 163, 227, 254, 225, 254, 254, 254, 250, 229, 254, 254,\n",
              "       140,   0,   0,   0,   0,   0,   0,   0,   0,   0,   0,   0,   0,\n",
              "         0,   0,   0,   0,   0,  17,  66,  14,  67,  67,  67,  59,  21,\n",
              "       236, 254, 106,   0,   0,   0,   0,   0,   0,   0,   0,   0,   0,\n",
              "         0,   0,   0,   0,   0,   0,   0,   0,   0,   0,   0,   0,   0,\n",
              "         0,  83, 253, 209,  18,   0,   0,   0,   0,   0,   0,   0,   0,\n",
              "         0,   0,   0,   0,   0,   0,   0,   0,   0,   0,   0,   0,   0,\n",
              "         0,   0,  22, 233, 255,  83,   0,   0,   0,   0,   0,   0,   0,\n",
              "         0,   0,   0,   0,   0,   0,   0,   0,   0,   0,   0,   0,   0,\n",
              "         0,   0,   0,   0, 129, 254, 238,  44,   0,   0,   0,   0,   0,\n",
              "         0,   0,   0,   0,   0,   0,   0,   0,   0,   0,   0,   0,   0,\n",
              "         0,   0,   0,   0,   0,  59, 249, 254,  62,   0,   0,   0,   0,\n",
              "         0,   0,   0,   0,   0,   0,   0,   0,   0,   0,   0,   0,   0,\n",
              "         0,   0,   0,   0,   0,   0,   0, 133, 254, 187,   5,   0,   0,\n",
              "         0,   0,   0,   0,   0,   0,   0,   0,   0,   0,   0,   0,   0,\n",
              "         0,   0,   0,   0,   0,   0,   0,   0,   9, 205, 248,  58,   0,\n",
              "         0,   0,   0,   0,   0,   0,   0,   0,   0,   0,   0,   0,   0,\n",
              "         0,   0,   0,   0,   0,   0,   0,   0,   0,   0, 126, 254, 182,\n",
              "         0,   0,   0,   0,   0,   0,   0,   0,   0,   0,   0,   0,   0,\n",
              "         0,   0,   0,   0,   0,   0,   0,   0,   0,   0,   0,  75, 251,\n",
              "       240,  57,   0,   0,   0,   0,   0,   0,   0,   0,   0,   0,   0,\n",
              "         0,   0,   0,   0,   0,   0,   0,   0,   0,   0,   0,   0,  19,\n",
              "       221, 254, 166,   0,   0,   0,   0,   0,   0,   0,   0,   0,   0,\n",
              "         0,   0,   0,   0,   0,   0,   0,   0,   0,   0,   0,   0,   0,\n",
              "         3, 203, 254, 219,  35,   0,   0,   0,   0,   0,   0,   0,   0,\n",
              "         0,   0,   0,   0,   0,   0,   0,   0,   0,   0,   0,   0,   0,\n",
              "         0,   0,  38, 254, 254,  77,   0,   0,   0,   0,   0,   0,   0,\n",
              "         0,   0,   0,   0,   0,   0,   0,   0,   0,   0,   0,   0,   0,\n",
              "         0,   0,   0,  31, 224, 254, 115,   1,   0,   0,   0,   0,   0,\n",
              "         0,   0,   0,   0,   0,   0,   0,   0,   0,   0,   0,   0,   0,\n",
              "         0,   0,   0,   0,   0, 133, 254, 254,  52,   0,   0,   0,   0,\n",
              "         0,   0,   0,   0,   0,   0,   0,   0,   0,   0,   0,   0,   0,\n",
              "         0,   0,   0,   0,   0,   0,  61, 242, 254, 254,  52,   0,   0,\n",
              "         0,   0,   0,   0,   0,   0,   0,   0,   0,   0,   0,   0,   0,\n",
              "         0,   0,   0,   0,   0,   0,   0,   0, 121, 254, 254, 219,  40,\n",
              "         0,   0,   0,   0,   0,   0,   0,   0,   0,   0,   0,   0,   0,\n",
              "         0,   0,   0,   0,   0,   0,   0,   0,   0,   0, 121, 254, 207,\n",
              "        18,   0,   0,   0,   0,   0,   0,   0,   0,   0,   0,   0,   0,\n",
              "         0,   0,   0,   0,   0,   0,   0,   0,   0,   0,   0,   0,   0,\n",
              "         0,   0,   0,   0,   0,   0,   0,   0,   0,   0,   0,   0,   0,\n",
              "         0,   0,   0,   0], dtype=uint8)"
            ]
          },
          "metadata": {
            "tags": []
          },
          "execution_count": 3
        }
      ]
    },
    {
      "cell_type": "code",
      "metadata": {
        "id": "KBDT5scxXvph"
      },
      "source": [
        "# Transformação dos dados para float para podermos normalizar os dados\n",
        "X_treinamento = X_treinamento.astype('float32')\n",
        "X_teste = X_teste.astype('float32')"
      ],
      "execution_count": 4,
      "outputs": []
    },
    {
      "cell_type": "code",
      "metadata": {
        "id": "YZtRdIhyXxRP"
      },
      "source": [
        "# Normalização (255 é o valor máximo de um pixel)\n",
        "X_treinamento /= 255\n",
        "X_teste /= 255"
      ],
      "execution_count": 5,
      "outputs": []
    },
    {
      "cell_type": "code",
      "metadata": {
        "colab": {
          "base_uri": "https://localhost:8080/"
        },
        "id": "vG5-lBY7Xysn",
        "outputId": "0d0c7a6c-dafb-42fc-a8c6-5ab62c3e0c1f"
      },
      "source": [
        "# Transformação para o formato dummy (temos 10 classes)\n",
        "y_treinamento = np_utils.to_categorical(y_treinamento, 10)\n",
        "y_teste = np_utils.to_categorical(y_teste, 10)\n",
        "y_teste[0]"
      ],
      "execution_count": 6,
      "outputs": [
        {
          "output_type": "execute_result",
          "data": {
            "text/plain": [
              "array([0., 0., 0., 0., 0., 0., 0., 1., 0., 0.], dtype=float32)"
            ]
          },
          "metadata": {
            "tags": []
          },
          "execution_count": 6
        }
      ]
    },
    {
      "cell_type": "code",
      "metadata": {
        "id": "IC5jqVYfX0wd"
      },
      "source": [
        "# Estrutura da rede neural: 784 - 64 - 64 - 64 - 10\n",
        "# Dropout é utilizado para zerar uma porcentagem dos neurônios, para evitar o overfitting\n",
        "modelo = Sequential()\n",
        "modelo.add(Dense(units = 64, activation = 'relu', input_dim = 784))\n",
        "# 'relu' - Rectified Linear Unit, muito utilizada com imagens. f(x)=0 se x<=0, f(x)=x se x>0\n",
        "modelo.add(Dropout(0.2))\n",
        "modelo.add(Dense(units = 64, activation = 'relu'))\n",
        "modelo.add(Dropout(0.2))\n",
        "modelo.add(Dense(units = 64, activation = 'relu'))\n",
        "modelo.add(Dropout(0.2))\n",
        "#camada de saida, softmax probabilidade\n",
        "modelo.add(Dense(units = 10, activation = 'softmax'))"
      ],
      "execution_count": 7,
      "outputs": []
    },
    {
      "cell_type": "code",
      "metadata": {
        "colab": {
          "base_uri": "https://localhost:8080/"
        },
        "id": "tuBnD-eCX3Gn",
        "outputId": "d4fbd2d7-8fa8-48ae-c9ff-2547df50f2ba"
      },
      "source": [
        "# Visualização da estrutura da rede neural\n",
        "modelo.summary()"
      ],
      "execution_count": 8,
      "outputs": [
        {
          "output_type": "stream",
          "text": [
            "Model: \"sequential\"\n",
            "_________________________________________________________________\n",
            "Layer (type)                 Output Shape              Param #   \n",
            "=================================================================\n",
            "dense (Dense)                (None, 64)                50240     \n",
            "_________________________________________________________________\n",
            "dropout (Dropout)            (None, 64)                0         \n",
            "_________________________________________________________________\n",
            "dense_1 (Dense)              (None, 64)                4160      \n",
            "_________________________________________________________________\n",
            "dropout_1 (Dropout)          (None, 64)                0         \n",
            "_________________________________________________________________\n",
            "dense_2 (Dense)              (None, 64)                4160      \n",
            "_________________________________________________________________\n",
            "dropout_2 (Dropout)          (None, 64)                0         \n",
            "_________________________________________________________________\n",
            "dense_3 (Dense)              (None, 10)                650       \n",
            "=================================================================\n",
            "Total params: 59,210\n",
            "Trainable params: 59,210\n",
            "Non-trainable params: 0\n",
            "_________________________________________________________________\n"
          ],
          "name": "stdout"
        }
      ]
    },
    {
      "cell_type": "code",
      "metadata": {
        "colab": {
          "base_uri": "https://localhost:8080/"
        },
        "id": "S_9IvP_MX6zl",
        "outputId": "0d7c4b2b-a5a1-4235-fb32-56a6a3ba71a8"
      },
      "source": [
        "# Configuração dos parâmetros da rede neural e treinamento (utilizando base de dados de validação)\n",
        "# Na variável historico temos os histórico das execuções (erro e accuracy)\n",
        "modelo.compile(optimizer = 'adam', loss = 'categorical_crossentropy',\n",
        "               metrics = ['accuracy'])\n",
        "historico = modelo.fit(X_treinamento, y_treinamento, epochs = 20, #Para maior acertividade aumentar o numero de epochs p/ 500 ou 1000\n",
        "                       validation_data = (X_teste, y_teste))"
      ],
      "execution_count": 9,
      "outputs": [
        {
          "output_type": "stream",
          "text": [
            "Epoch 1/20\n",
            "1875/1875 [==============================] - 5s 2ms/step - loss: 0.7332 - accuracy: 0.7631 - val_loss: 0.1650 - val_accuracy: 0.9502\n",
            "Epoch 2/20\n",
            "1875/1875 [==============================] - 4s 2ms/step - loss: 0.2533 - accuracy: 0.9273 - val_loss: 0.1383 - val_accuracy: 0.9581\n",
            "Epoch 3/20\n",
            "1875/1875 [==============================] - 4s 2ms/step - loss: 0.1947 - accuracy: 0.9430 - val_loss: 0.1291 - val_accuracy: 0.9616\n",
            "Epoch 4/20\n",
            "1875/1875 [==============================] - 4s 2ms/step - loss: 0.1727 - accuracy: 0.9500 - val_loss: 0.1048 - val_accuracy: 0.9695\n",
            "Epoch 5/20\n",
            "1875/1875 [==============================] - 4s 2ms/step - loss: 0.1535 - accuracy: 0.9539 - val_loss: 0.1031 - val_accuracy: 0.9696\n",
            "Epoch 6/20\n",
            "1875/1875 [==============================] - 4s 2ms/step - loss: 0.1413 - accuracy: 0.9572 - val_loss: 0.0921 - val_accuracy: 0.9715\n",
            "Epoch 7/20\n",
            "1875/1875 [==============================] - 4s 2ms/step - loss: 0.1314 - accuracy: 0.9608 - val_loss: 0.0972 - val_accuracy: 0.9715\n",
            "Epoch 8/20\n",
            "1875/1875 [==============================] - 4s 2ms/step - loss: 0.1255 - accuracy: 0.9623 - val_loss: 0.0926 - val_accuracy: 0.9741\n",
            "Epoch 9/20\n",
            "1875/1875 [==============================] - 4s 2ms/step - loss: 0.1152 - accuracy: 0.9658 - val_loss: 0.0929 - val_accuracy: 0.9748\n",
            "Epoch 10/20\n",
            "1875/1875 [==============================] - 4s 2ms/step - loss: 0.1094 - accuracy: 0.9678 - val_loss: 0.0992 - val_accuracy: 0.9712\n",
            "Epoch 11/20\n",
            "1875/1875 [==============================] - 4s 2ms/step - loss: 0.1101 - accuracy: 0.9669 - val_loss: 0.0975 - val_accuracy: 0.9732\n",
            "Epoch 12/20\n",
            "1875/1875 [==============================] - 4s 2ms/step - loss: 0.1076 - accuracy: 0.9683 - val_loss: 0.0882 - val_accuracy: 0.9744\n",
            "Epoch 13/20\n",
            "1875/1875 [==============================] - 4s 2ms/step - loss: 0.1030 - accuracy: 0.9703 - val_loss: 0.0919 - val_accuracy: 0.9745\n",
            "Epoch 14/20\n",
            "1875/1875 [==============================] - 4s 2ms/step - loss: 0.0963 - accuracy: 0.9699 - val_loss: 0.0888 - val_accuracy: 0.9764\n",
            "Epoch 15/20\n",
            "1875/1875 [==============================] - 4s 2ms/step - loss: 0.0981 - accuracy: 0.9713 - val_loss: 0.0917 - val_accuracy: 0.9753\n",
            "Epoch 16/20\n",
            "1875/1875 [==============================] - 4s 2ms/step - loss: 0.0891 - accuracy: 0.9734 - val_loss: 0.0910 - val_accuracy: 0.9742\n",
            "Epoch 17/20\n",
            "1875/1875 [==============================] - 4s 2ms/step - loss: 0.0918 - accuracy: 0.9723 - val_loss: 0.0884 - val_accuracy: 0.9747\n",
            "Epoch 18/20\n",
            "1875/1875 [==============================] - 4s 2ms/step - loss: 0.0878 - accuracy: 0.9726 - val_loss: 0.0876 - val_accuracy: 0.9752\n",
            "Epoch 19/20\n",
            "1875/1875 [==============================] - 4s 2ms/step - loss: 0.0856 - accuracy: 0.9737 - val_loss: 0.0858 - val_accuracy: 0.9768\n",
            "Epoch 20/20\n",
            "1875/1875 [==============================] - 4s 2ms/step - loss: 0.0825 - accuracy: 0.9746 - val_loss: 0.1004 - val_accuracy: 0.9749\n"
          ],
          "name": "stdout"
        }
      ]
    },
    {
      "cell_type": "code",
      "metadata": {
        "colab": {
          "base_uri": "https://localhost:8080/",
          "height": 282
        },
        "id": "vrAd1_tAX8bN",
        "outputId": "14b50bfa-e1b8-4686-cabe-064c0c075697"
      },
      "source": [
        "# Gráfico para visualizar os erros e accuracy\n",
        "historico.history.keys()\n",
        "#evolução do erro, azul\n",
        "plt.plot(historico.history['val_loss'])\n",
        "#performance da rede\n",
        "plt.plot(historico.history['val_accuracy'])"
      ],
      "execution_count": 10,
      "outputs": [
        {
          "output_type": "execute_result",
          "data": {
            "text/plain": [
              "[<matplotlib.lines.Line2D at 0x7f3892feba50>]"
            ]
          },
          "metadata": {
            "tags": []
          },
          "execution_count": 10
        },
        {
          "output_type": "display_data",
          "data": {
            "image/png": "[encoded data removed]",
            "text/plain": [
              "<Figure size 432x288 with 1 Axes>"
            ]
          },
          "metadata": {
            "tags": [],
            "needs_background": "light"
          }
        }
      ]
    },
    {
      "cell_type": "code",
      "metadata": {
        "colab": {
          "base_uri": "https://localhost:8080/"
        },
        "id": "Cz4zy0QFX9mL",
        "outputId": "81c8b3b6-6e56-4d01-89ba-6923d770ec04"
      },
      "source": [
        "# Obtenção das previsões \n",
        "previsoes = modelo.predict(X_teste)\n",
        "previsoes"
      ],
      "execution_count": 11,
      "outputs": [
        {
          "output_type": "execute_result",
          "data": {
            "text/plain": [
              "array([[2.6148692e-09, 1.1720221e-07, 3.8518601e-06, ..., 9.9997020e-01,\n",
              "        1.0399749e-08, 2.2504746e-05],\n",
              "       [1.0374691e-09, 3.8090366e-06, 9.9995029e-01, ..., 2.4355862e-05,\n",
              "        1.7130713e-08, 4.9484028e-13],\n",
              "       [1.7407341e-10, 9.9996579e-01, 8.8394941e-08, ..., 7.6430752e-06,\n",
              "        2.5515410e-05, 7.4015816e-08],\n",
              "       ...,\n",
              "       [1.6734853e-13, 1.8988618e-10, 2.2564299e-10, ..., 4.9275024e-09,\n",
              "        1.5288859e-11, 4.7898112e-07],\n",
              "       [3.7132302e-12, 9.0972724e-12, 3.4570339e-12, ..., 1.7155309e-14,\n",
              "        3.2139152e-07, 1.3016740e-10],\n",
              "       [5.0328502e-14, 2.8200014e-19, 4.2583416e-14, ..., 1.3202750e-22,\n",
              "        4.7482070e-13, 1.0045057e-19]], dtype=float32)"
            ]
          },
          "metadata": {
            "tags": []
          },
          "execution_count": 11
        }
      ]
    },
    {
      "cell_type": "code",
      "metadata": {
        "colab": {
          "base_uri": "https://localhost:8080/"
        },
        "id": "n-oBZC8kX-7y",
        "outputId": "4d3d79b1-eef3-4a2b-ab0d-1126adeed8f3"
      },
      "source": [
        "# valor máximo (com a probabilidade maior por serem 10 saídas) e geração da matriz de confusão\n",
        "y_teste_matriz = [np.argmax(t) for t in y_teste]\n",
        "y_previsoes_matriz = [np.argmax(t) for t in previsoes]\n",
        "confusao = confusion_matrix(y_teste_matriz, y_previsoes_matriz)\n",
        "confusao"
      ],
      "execution_count": 12,
      "outputs": [
        {
          "output_type": "execute_result",
          "data": {
            "text/plain": [
              "array([[ 966,    0,    0,    0,    0,    1,    8,    1,    4,    0],\n",
              "       [   0, 1122,    1,    1,    0,    0,    2,    0,    9,    0],\n",
              "       [   5,    0,  996,    0,    4,    1,    3,    7,   16,    0],\n",
              "       [   1,    1,    1,  991,    0,    4,    0,    5,    5,    2],\n",
              "       [   2,    0,    3,    0,  962,    0,    7,    0,    1,    7],\n",
              "       [   3,    1,    0,    8,    1,  863,    6,    2,    7,    1],\n",
              "       [   5,    2,    0,    0,    3,    2,  942,    0,    4,    0],\n",
              "       [   2,    3,   11,    1,    2,    0,    0,  999,    2,    8],\n",
              "       [   6,    1,    1,    3,    4,    4,    1,    4,  948,    2],\n",
              "       [   4,    3,    0,    5,   19,    4,    2,    6,    6,  960]])"
            ]
          },
          "metadata": {
            "tags": []
          },
          "execution_count": 12
        }
      ]
    },
    {
      "cell_type": "code",
      "metadata": {
        "colab": {
          "base_uri": "https://localhost:8080/"
        },
        "id": "4of2kkLbYAEK",
        "outputId": "6b8630f4-22dd-4c5d-9e2a-23a612e07930"
      },
      "source": [
        "# Previsão com um novo registro, convertendo o array para o formato de matriz\n",
        "#número 4\n",
        "y_treinamento[20]"
      ],
      "execution_count": 13,
      "outputs": [
        {
          "output_type": "execute_result",
          "data": {
            "text/plain": [
              "array([0., 0., 0., 0., 1., 0., 0., 0., 0., 0.], dtype=float32)"
            ]
          },
          "metadata": {
            "tags": []
          },
          "execution_count": 13
        }
      ]
    },
    {
      "cell_type": "code",
      "metadata": {
        "colab": {
          "base_uri": "https://localhost:8080/"
        },
        "id": "OETy3A8MYBjO",
        "outputId": "322a799b-0514-4214-8b87-1bd8db059b94"
      },
      "source": [
        "#passo a mesma posição para o modelo prever\n",
        "novo = X_treinamento[20]\n",
        "#de matriz para vetor\n",
        "novo = np.expand_dims(novo, axis = 0)\n",
        "#previsao\n",
        "pred = modelo.predict(novo)\n",
        "#maior valor\n",
        "pred = [np.argmax(pred) for t in pred]\n",
        "pred"
      ],
      "execution_count": 14,
      "outputs": [
        {
          "output_type": "execute_result",
          "data": {
            "text/plain": [
              "[4]"
            ]
          },
          "metadata": {
            "tags": []
          },
          "execution_count": 14
        }
      ]
    }
  ]
}