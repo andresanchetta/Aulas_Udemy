{
  "nbformat": 4,
  "nbformat_minor": 0,
  "metadata": {
    "colab": {
      "name": "Random Forest.ipynb",
      "provenance": [],
      "collapsed_sections": [],
      "authorship_tag": "ABX9TyO9hUidfUMrZ4L37+rnMkDs",
      "include_colab_link": true
    },
    "kernelspec": {
      "name": "python3",
      "display_name": "Python 3"
    },
    "language_info": {
      "name": "python"
    }
  },
  "cells": [
    {
      "cell_type": "markdown",
      "metadata": {
        "id": "view-in-github",
        "colab_type": "text"
      },
      "source": [
        "<a href=\"https://colab.research.google.com/github/andresanchetta/Aulas_Udemy/blob/main/Random_Forest.ipynb\" target=\"_parent\"><img src=\"https://colab.research.google.com/assets/colab-badge.svg\" alt=\"Open In Colab\"/></a>"
      ]
    },
    {
      "cell_type": "code",
      "metadata": {
        "id": "3_PFryBz225_"
      },
      "source": [
        "# Importação das bibliotecas\n",
        "import pandas as pd\n",
        "from sklearn.model_selection import train_test_split\n",
        "from sklearn.preprocessing import LabelEncoder\n",
        "from sklearn.metrics import confusion_matrix, accuracy_score\n",
        "from sklearn.ensemble import RandomForestClassifier\n",
        "import matplotlib.pyplot as plt"
      ],
      "execution_count": 35,
      "outputs": []
    },
    {
      "cell_type": "code",
      "metadata": {
        "colab": {
          "base_uri": "https://localhost:8080/"
        },
        "id": "2cqhnJKG3HO7",
        "outputId": "96639f22-63dd-4f72-e5c4-cb6a20916350"
      },
      "source": [
        "# Importando os dados e verificando o tamanho do DF:\n",
        "url = 'https://raw.githubusercontent.com/andresanchetta/Aulas_Udemy/main/Dados/Credit.csv'\n",
        "credito = pd.read_csv(url, sep = ',')\n",
        "credito.shape"
      ],
      "execution_count": 2,
      "outputs": [
        {
          "output_type": "execute_result",
          "data": {
            "text/plain": [
              "(1000, 21)"
            ]
          },
          "metadata": {
            "tags": []
          },
          "execution_count": 2
        }
      ]
    },
    {
      "cell_type": "code",
      "metadata": {
        "colab": {
          "base_uri": "https://localhost:8080/",
          "height": 282
        },
        "id": "J4hlGklt3H4D",
        "outputId": "950c563d-aef4-45ba-92dc-a682b79c2de6"
      },
      "source": [
        "# Explorando o DF:\n",
        "credito.head()"
      ],
      "execution_count": 3,
      "outputs": [
        {
          "output_type": "execute_result",
          "data": {
            "text/html": [
              "<div>\n",
              "<style scoped>\n",
              "    .dataframe tbody tr th:only-of-type {\n",
              "        vertical-align: middle;\n",
              "    }\n",
              "\n",
              "    .dataframe tbody tr th {\n",
              "        vertical-align: top;\n",
              "    }\n",
              "\n",
              "    .dataframe thead th {\n",
              "        text-align: right;\n",
              "    }\n",
              "</style>\n",
              "<table border=\"1\" class=\"dataframe\">\n",
              "  <thead>\n",
              "    <tr style=\"text-align: right;\">\n",
              "      <th></th>\n",
              "      <th>checking_status</th>\n",
              "      <th>duration</th>\n",
              "      <th>credit_history</th>\n",
              "      <th>purpose</th>\n",
              "      <th>credit_amount</th>\n",
              "      <th>savings_status</th>\n",
              "      <th>employment</th>\n",
              "      <th>installment_commitment</th>\n",
              "      <th>personal_status</th>\n",
              "      <th>other_parties</th>\n",
              "      <th>residence_since</th>\n",
              "      <th>property_magnitude</th>\n",
              "      <th>age</th>\n",
              "      <th>other_payment_plans</th>\n",
              "      <th>housing</th>\n",
              "      <th>existing_credits</th>\n",
              "      <th>job</th>\n",
              "      <th>num_dependents</th>\n",
              "      <th>own_telephone</th>\n",
              "      <th>foreign_worker</th>\n",
              "      <th>class</th>\n",
              "    </tr>\n",
              "  </thead>\n",
              "  <tbody>\n",
              "    <tr>\n",
              "      <th>0</th>\n",
              "      <td>&lt;0</td>\n",
              "      <td>6</td>\n",
              "      <td>'critical/other existing credit'</td>\n",
              "      <td>radio/tv</td>\n",
              "      <td>1169</td>\n",
              "      <td>'no known savings'</td>\n",
              "      <td>&gt;=7</td>\n",
              "      <td>4</td>\n",
              "      <td>'male single'</td>\n",
              "      <td>none</td>\n",
              "      <td>4</td>\n",
              "      <td>'real estate'</td>\n",
              "      <td>67</td>\n",
              "      <td>none</td>\n",
              "      <td>own</td>\n",
              "      <td>2</td>\n",
              "      <td>skilled</td>\n",
              "      <td>1</td>\n",
              "      <td>yes</td>\n",
              "      <td>yes</td>\n",
              "      <td>good</td>\n",
              "    </tr>\n",
              "    <tr>\n",
              "      <th>1</th>\n",
              "      <td>0&lt;=X&lt;200</td>\n",
              "      <td>48</td>\n",
              "      <td>'existing paid'</td>\n",
              "      <td>radio/tv</td>\n",
              "      <td>5951</td>\n",
              "      <td>&lt;100</td>\n",
              "      <td>1&lt;=X&lt;4</td>\n",
              "      <td>2</td>\n",
              "      <td>'female div/dep/mar'</td>\n",
              "      <td>none</td>\n",
              "      <td>2</td>\n",
              "      <td>'real estate'</td>\n",
              "      <td>22</td>\n",
              "      <td>none</td>\n",
              "      <td>own</td>\n",
              "      <td>1</td>\n",
              "      <td>skilled</td>\n",
              "      <td>1</td>\n",
              "      <td>none</td>\n",
              "      <td>yes</td>\n",
              "      <td>bad</td>\n",
              "    </tr>\n",
              "    <tr>\n",
              "      <th>2</th>\n",
              "      <td>'no checking'</td>\n",
              "      <td>12</td>\n",
              "      <td>'critical/other existing credit'</td>\n",
              "      <td>education</td>\n",
              "      <td>2096</td>\n",
              "      <td>&lt;100</td>\n",
              "      <td>4&lt;=X&lt;7</td>\n",
              "      <td>2</td>\n",
              "      <td>'male single'</td>\n",
              "      <td>none</td>\n",
              "      <td>3</td>\n",
              "      <td>'real estate'</td>\n",
              "      <td>49</td>\n",
              "      <td>none</td>\n",
              "      <td>own</td>\n",
              "      <td>1</td>\n",
              "      <td>'unskilled resident'</td>\n",
              "      <td>2</td>\n",
              "      <td>none</td>\n",
              "      <td>yes</td>\n",
              "      <td>good</td>\n",
              "    </tr>\n",
              "    <tr>\n",
              "      <th>3</th>\n",
              "      <td>&lt;0</td>\n",
              "      <td>42</td>\n",
              "      <td>'existing paid'</td>\n",
              "      <td>furniture/equipment</td>\n",
              "      <td>7882</td>\n",
              "      <td>&lt;100</td>\n",
              "      <td>4&lt;=X&lt;7</td>\n",
              "      <td>2</td>\n",
              "      <td>'male single'</td>\n",
              "      <td>guarantor</td>\n",
              "      <td>4</td>\n",
              "      <td>'life insurance'</td>\n",
              "      <td>45</td>\n",
              "      <td>none</td>\n",
              "      <td>'for free'</td>\n",
              "      <td>1</td>\n",
              "      <td>skilled</td>\n",
              "      <td>2</td>\n",
              "      <td>none</td>\n",
              "      <td>yes</td>\n",
              "      <td>good</td>\n",
              "    </tr>\n",
              "    <tr>\n",
              "      <th>4</th>\n",
              "      <td>&lt;0</td>\n",
              "      <td>24</td>\n",
              "      <td>'delayed previously'</td>\n",
              "      <td>'new car'</td>\n",
              "      <td>4870</td>\n",
              "      <td>&lt;100</td>\n",
              "      <td>1&lt;=X&lt;4</td>\n",
              "      <td>3</td>\n",
              "      <td>'male single'</td>\n",
              "      <td>none</td>\n",
              "      <td>4</td>\n",
              "      <td>'no known property'</td>\n",
              "      <td>53</td>\n",
              "      <td>none</td>\n",
              "      <td>'for free'</td>\n",
              "      <td>2</td>\n",
              "      <td>skilled</td>\n",
              "      <td>2</td>\n",
              "      <td>none</td>\n",
              "      <td>yes</td>\n",
              "      <td>bad</td>\n",
              "    </tr>\n",
              "  </tbody>\n",
              "</table>\n",
              "</div>"
            ],
            "text/plain": [
              "  checking_status  duration  ... foreign_worker class\n",
              "0              <0         6  ...            yes  good\n",
              "1        0<=X<200        48  ...            yes   bad\n",
              "2   'no checking'        12  ...            yes  good\n",
              "3              <0        42  ...            yes  good\n",
              "4              <0        24  ...            yes   bad\n",
              "\n",
              "[5 rows x 21 columns]"
            ]
          },
          "metadata": {
            "tags": []
          },
          "execution_count": 3
        }
      ]
    },
    {
      "cell_type": "markdown",
      "metadata": {
        "id": "LJ2Brin53VEa"
      },
      "source": [
        "O DF é um conjunto de dados de clientes de banco, o qual solicitaram crédito, e a classe, a variavel que tentaremos prever com o modelo, indica se são bons ou mal pagadores."
      ]
    },
    {
      "cell_type": "code",
      "metadata": {
        "id": "Z-SLrJ8F3bGi"
      },
      "source": [
        "# Definição dos previsores (variáveis independentes - X) e a classe (variável dependente - y), transformando em matriz:\n",
        "previsores = credito.iloc[:,0:20].values\n",
        "classe = credito.iloc[:,20].values"
      ],
      "execution_count": 4,
      "outputs": []
    },
    {
      "cell_type": "markdown",
      "metadata": {
        "id": "N3_dP4gI3hwT"
      },
      "source": [
        "Para seguir com a análise, é preciso transformar os atributos categóricos em atributos numéricos, passando o índice de cada coluna categórica.\n",
        "É precisamos criar um objeto para cada atributo categórico, pois na sequência é executado o processo de encoding novamente para o registro de teste, através do label encoder.\n",
        "Se forem utilizados objetos diferentes, o número atribuído a cada valor poderá ser diferente, o que deixará o teste inconsistente."
      ]
    },
    {
      "cell_type": "code",
      "metadata": {
        "id": "9i6tMLLz3iOz"
      },
      "source": [
        "labelencoder = LabelEncoder()\n",
        "previsores[:,0] = labelencoder.fit_transform(previsores[:,0])\n",
        "previsores[:,2] = labelencoder.fit_transform(previsores[:,2])\n",
        "previsores[:, 3] = labelencoder.fit_transform(previsores[:, 3])\n",
        "previsores[:, 5] = labelencoder.fit_transform(previsores[:, 5])\n",
        "previsores[:, 6] = labelencoder.fit_transform(previsores[:, 6])\n",
        "previsores[:, 8] = labelencoder.fit_transform(previsores[:, 8])\n",
        "previsores[:, 9] = labelencoder.fit_transform(previsores[:, 9])\n",
        "previsores[:, 11] = labelencoder.fit_transform(previsores[:, 11])\n",
        "previsores[:, 13] = labelencoder.fit_transform(previsores[:, 13])\n",
        "previsores[:, 14] = labelencoder.fit_transform(previsores[:, 14])\n",
        "previsores[:, 16] = labelencoder.fit_transform(previsores[:, 16])\n",
        "previsores[:, 18] = labelencoder.fit_transform(previsores[:, 18])\n",
        "previsores[:, 19] = labelencoder.fit_transform(previsores[:, 19])"
      ],
      "execution_count": 5,
      "outputs": []
    },
    {
      "cell_type": "code",
      "metadata": {
        "id": "UaBLd-ro3rKD"
      },
      "source": [
        "# Divisão da base de dados entre treinamento e teste. Usamos 30% para testar e 70% para treinar. Random_state = 0 para sempre obter a mesma divisão da base quando o código for executado\n",
        "X_treinamento, X_teste, y_treinamento, y_teste = train_test_split(previsores, classe, test_size = 0.3, random_state = 0)"
      ],
      "execution_count": 6,
      "outputs": []
    },
    {
      "cell_type": "code",
      "metadata": {
        "colab": {
          "base_uri": "https://localhost:8080/"
        },
        "id": "IbZUyoGiAzSU",
        "outputId": "efd305b5-f3ae-4f06-c264-5e84ee027874"
      },
      "source": [
        "# Criação do modelo e treinamento:\n",
        "floresta = RandomForestClassifier(n_estimators = 100)\n",
        "floresta.fit(X_treinamento, y_treinamento)"
      ],
      "execution_count": 18,
      "outputs": [
        {
          "output_type": "execute_result",
          "data": {
            "text/plain": [
              "RandomForestClassifier(bootstrap=True, ccp_alpha=0.0, class_weight=None,\n",
              "                       criterion='gini', max_depth=None, max_features='auto',\n",
              "                       max_leaf_nodes=None, max_samples=None,\n",
              "                       min_impurity_decrease=0.0, min_impurity_split=None,\n",
              "                       min_samples_leaf=1, min_samples_split=2,\n",
              "                       min_weight_fraction_leaf=0.0, n_estimators=100,\n",
              "                       n_jobs=None, oob_score=False, random_state=None,\n",
              "                       verbose=0, warm_start=False)"
            ]
          },
          "metadata": {
            "tags": []
          },
          "execution_count": 18
        }
      ]
    },
    {
      "cell_type": "code",
      "metadata": {
        "colab": {
          "base_uri": "https://localhost:8080/"
        },
        "id": "GBbh1OVAA4nM",
        "outputId": "43eb3786-5d61-4bc3-bcd3-21d31e89f10a"
      },
      "source": [
        "# Visualização dos atributos principais\n",
        "# floresta.estimators_\n",
        "floresta.estimators_[1]"
      ],
      "execution_count": 19,
      "outputs": [
        {
          "output_type": "execute_result",
          "data": {
            "text/plain": [
              "DecisionTreeClassifier(ccp_alpha=0.0, class_weight=None, criterion='gini',\n",
              "                       max_depth=None, max_features='auto', max_leaf_nodes=None,\n",
              "                       min_impurity_decrease=0.0, min_impurity_split=None,\n",
              "                       min_samples_leaf=1, min_samples_split=2,\n",
              "                       min_weight_fraction_leaf=0.0, presort='deprecated',\n",
              "                       random_state=45162779, splitter='best')"
            ]
          },
          "metadata": {
            "tags": []
          },
          "execution_count": 19
        }
      ]
    },
    {
      "cell_type": "code",
      "metadata": {
        "colab": {
          "base_uri": "https://localhost:8080/"
        },
        "id": "qeXTjzsQBAWz",
        "outputId": "9d3872eb-7d6f-4016-e753-65f276ca1e9c"
      },
      "source": [
        "# Previsões e Taxa de Acerto\n",
        "previsoes = floresta.predict(X_teste)\n",
        "confusao = confusion_matrix(y_teste, previsoes)\n",
        "taxa_acerto = accuracy_score(y_teste, previsoes)\n",
        "taxa_acerto"
      ],
      "execution_count": 20,
      "outputs": [
        {
          "output_type": "execute_result",
          "data": {
            "text/plain": [
              "0.78"
            ]
          },
          "metadata": {
            "tags": []
          },
          "execution_count": 20
        }
      ]
    },
    {
      "cell_type": "markdown",
      "metadata": {
        "id": "UsMcHpsF4cgE"
      },
      "source": [
        "O modelo de Random Forest obteve uma acurácia de apróximadamente 80%."
      ]
    },
    {
      "cell_type": "markdown",
      "metadata": {
        "id": "CG4GNGZqBip6"
      },
      "source": [
        "Alterando a quantidade de estimadores para visualizar a diferença entre os resultados."
      ]
    },
    {
      "cell_type": "code",
      "metadata": {
        "id": "3TGrCDeMBo5s"
      },
      "source": [
        "resultados = [0,0,0]\n",
        "\n",
        "for i in range(1,1000):\n",
        "  floresta = RandomForestClassifier(n_estimators = i)\n",
        "  floresta.fit(X_treinamento, y_treinamento)\n",
        "  previsoes = floresta.predict(X_teste)\n",
        "  confusao = confusion_matrix(y_teste, previsoes)\n",
        "  resultados.append(accuracy_score(y_teste, previsoes))\n",
        "  "
      ],
      "execution_count": 33,
      "outputs": []
    },
    {
      "cell_type": "code",
      "metadata": {
        "colab": {
          "base_uri": "https://localhost:8080/",
          "height": 501
        },
        "id": "0AY03EtnHdge",
        "outputId": "b77eb51c-dfb7-4436-8416-925299b63f2c"
      },
      "source": [
        "# Plotando os resultados para ter uma noção de como o número de estimadores influencia no resultado:\n",
        "plt.figure(figsize=(15,8))\n",
        "plt.plot(resultados)"
      ],
      "execution_count": 57,
      "outputs": [
        {
          "output_type": "execute_result",
          "data": {
            "text/plain": [
              "[<matplotlib.lines.Line2D at 0x7f594026e210>]"
            ]
          },
          "metadata": {
            "tags": []
          },
          "execution_count": 57
        },
        {
          "output_type": "display_data",
          "data": {
            "image/png": "[encoded data removed]",
            "text/plain": [
              "<Figure size 1080x576 with 1 Axes>"
            ]
          },
          "metadata": {
            "tags": [],
            "needs_background": "light"
          }
        }
      ]
    },
    {
      "cell_type": "code",
      "metadata": {
        "colab": {
          "base_uri": "https://localhost:8080/"
        },
        "id": "gYW2SXMSKquH",
        "outputId": "c30968f0-14da-48f1-e893-b12d174d138d"
      },
      "source": [
        "#Descobrindo a maior acertividade e o numero de estimadores utilizado:\n",
        "n_max = max(resultados)\n",
        "n_pos = resultados.index(n_max) # Pega a posição do valor n_max, lembrando que iniciamos em 1, portanto somamos 1 ao resultado da posição.\n",
        "\n",
        "print ('Maior Acertividade: ',n_max,'%.')\n",
        "print ('Numero de Interações: ',n_pos+1,'.')"
      ],
      "execution_count": 66,
      "outputs": [
        {
          "output_type": "stream",
          "text": [
            "Maior Acertividade:  0.8066666666666666 %.\n",
            "Numero de Interações:  185 .\n"
          ],
          "name": "stdout"
        }
      ]
    }
  ]
}
