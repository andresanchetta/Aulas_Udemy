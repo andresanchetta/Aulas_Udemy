{
  "nbformat": 4,
  "nbformat_minor": 0,
  "metadata": {
    "colab": {
      "name": "Regressão Linear.ipynb",
      "provenance": [],
      "toc_visible": true,
      "authorship_tag": "ABX9TyMxJwzMa3M/MuLVhjeG1afN",
      "include_colab_link": true
    },
    "kernelspec": {
      "name": "python3",
      "display_name": "Python 3"
    },
    "language_info": {
      "name": "python"
    }
  },
  "cells": [
    {
      "cell_type": "markdown",
      "metadata": {
        "id": "view-in-github",
        "colab_type": "text"
      },
      "source": [
        "<a href=\"https://colab.research.google.com/github/andresanchetta/Aulas_Udemy/blob/main/Regress%C3%A3o_Linear.ipynb\" target=\"_parent\"><img src=\"https://colab.research.google.com/assets/colab-badge.svg\" alt=\"Open In Colab\"/></a>"
      ]
    },
    {
      "cell_type": "markdown",
      "metadata": {
        "id": "9nf2mmbqpg4C"
      },
      "source": [
        "#EXERCÍCIOS PYTHON"
      ]
    },
    {
      "cell_type": "markdown",
      "metadata": {
        "id": "XIhxB068psT4"
      },
      "source": [
        "##Regressão Linear"
      ]
    },
    {
      "cell_type": "markdown",
      "metadata": {
        "id": "NtJvZwHepCSm"
      },
      "source": [
        "Este exercício consiste em obter uma previsão do valor de Investimento Inicial de uma franquia, identificado na tabela de dados por ```CusInic```, a partir da variável referente a Taxa Anual cobrada pelo franqueador, indicado na tavela de dados por ```FrqAnual```."
      ]
    },
    {
      "cell_type": "code",
      "metadata": {
        "id": "ufYfASxEnAs3"
      },
      "source": [
        "import pandas as pd\n",
        "import numpy as np\n",
        "import matplotlib.pyplot as plt\n",
        "from sklearn.linear_model import LinearRegression\n",
        "import statsmodels.formula.api as sm"
      ],
      "execution_count": null,
      "outputs": []
    },
    {
      "cell_type": "code",
      "metadata": {
        "colab": {
          "base_uri": "https://localhost:8080/",
          "height": 195
        },
        "id": "n-4dvtDmnGP5",
        "outputId": "3cbbf4c8-9e40-4f5d-aa5d-00f173c68d8f"
      },
      "source": [
        "url_dados = 'https://raw.githubusercontent.com/andresanchetta/Aulas_Udemy/main/Dados/slr12.csv'\n",
        "dados = pd.read_csv(url_dados, sep=';')\n",
        "dados.head()"
      ],
      "execution_count": 34,
      "outputs": [
        {
          "output_type": "execute_result",
          "data": {
            "text/html": [
              "<div>\n",
              "<style scoped>\n",
              "    .dataframe tbody tr th:only-of-type {\n",
              "        vertical-align: middle;\n",
              "    }\n",
              "\n",
              "    .dataframe tbody tr th {\n",
              "        vertical-align: top;\n",
              "    }\n",
              "\n",
              "    .dataframe thead th {\n",
              "        text-align: right;\n",
              "    }\n",
              "</style>\n",
              "<table border=\"1\" class=\"dataframe\">\n",
              "  <thead>\n",
              "    <tr style=\"text-align: right;\">\n",
              "      <th></th>\n",
              "      <th>FrqAnual</th>\n",
              "      <th>CusInic</th>\n",
              "    </tr>\n",
              "  </thead>\n",
              "  <tbody>\n",
              "    <tr>\n",
              "      <th>0</th>\n",
              "      <td>1000</td>\n",
              "      <td>1050</td>\n",
              "    </tr>\n",
              "    <tr>\n",
              "      <th>1</th>\n",
              "      <td>1125</td>\n",
              "      <td>1150</td>\n",
              "    </tr>\n",
              "    <tr>\n",
              "      <th>2</th>\n",
              "      <td>1087</td>\n",
              "      <td>1213</td>\n",
              "    </tr>\n",
              "    <tr>\n",
              "      <th>3</th>\n",
              "      <td>1070</td>\n",
              "      <td>1275</td>\n",
              "    </tr>\n",
              "    <tr>\n",
              "      <th>4</th>\n",
              "      <td>1100</td>\n",
              "      <td>1300</td>\n",
              "    </tr>\n",
              "  </tbody>\n",
              "</table>\n",
              "</div>"
            ],
            "text/plain": [
              "   FrqAnual  CusInic\n",
              "0      1000     1050\n",
              "1      1125     1150\n",
              "2      1087     1213\n",
              "3      1070     1275\n",
              "4      1100     1300"
            ]
          },
          "metadata": {
            "tags": []
          },
          "execution_count": 34
        }
      ]
    },
    {
      "cell_type": "code",
      "metadata": {
        "colab": {
          "base_uri": "https://localhost:8080/"
        },
        "id": "WeExvDUyr-v4",
        "outputId": "1f3dfd47-fea5-41ed-a065-d17c57deccf1"
      },
      "source": [
        "dados.shape"
      ],
      "execution_count": null,
      "outputs": [
        {
          "output_type": "execute_result",
          "data": {
            "text/plain": [
              "(36, 2)"
            ]
          },
          "metadata": {
            "tags": []
          },
          "execution_count": 15
        }
      ]
    },
    {
      "cell_type": "markdown",
      "metadata": {
        "id": "MpWgiYIBrMHv"
      },
      "source": [
        "Em aula foram apresentados dois modelos para se obter a regressão linear, pelo metodo da biblioteca ```sklearn.linear_model``` e pela biblioteca ```statsmodels.formula.api```.  "
      ]
    },
    {
      "cell_type": "code",
      "metadata": {
        "colab": {
          "base_uri": "https://localhost:8080/"
        },
        "id": "uKRjlClcrCKI",
        "outputId": "767ba5a0-3b3e-4c01-ad59-5775e5513733"
      },
      "source": [
        "#Cria-se inicialmente as variaveis X e Y para o modelo de regressão:\n",
        "x = dados.iloc[:,0].values #Valores de Taxa Anual da Franquia\n",
        "y = dados.iloc[:,1].values #Valores de Custo Inicial\n",
        "correlacao = np.corrcoef(x,y)\n",
        "correlacao"
      ],
      "execution_count": null,
      "outputs": [
        {
          "output_type": "execute_result",
          "data": {
            "text/plain": [
              "array([[1.        , 0.47700725],\n",
              "       [0.47700725, 1.        ]])"
            ]
          },
          "metadata": {
            "tags": []
          },
          "execution_count": 16
        }
      ]
    },
    {
      "cell_type": "markdown",
      "metadata": {
        "id": "A16E19njs7vw"
      },
      "source": [
        "Através do cálculo da correlação, sabe-se que ela é positiva, ou seja, conforme aumenta-se X, aumenta-se Y, porém o valor dessa correlação é de aprox ```0.48``` o que nos indica que essa relação esta entre moderada e fraca, portanto a regressão linear não é altamente recomendada nesses casos.  \n",
        "Mesmo assim, segue a forma de Regressão Linear:\n"
      ]
    },
    {
      "cell_type": "markdown",
      "metadata": {
        "id": "FMKHf2XbvOUp"
      },
      "source": [
        "###sklear.linear_model"
      ]
    },
    {
      "cell_type": "code",
      "metadata": {
        "id": "EUxfXj5GtbXY"
      },
      "source": [
        "#Mudança do formato de x para matrix, necessário para versões recentes do sklearn\n",
        "x = x.reshape(-1,1)"
      ],
      "execution_count": null,
      "outputs": []
    },
    {
      "cell_type": "code",
      "metadata": {
        "colab": {
          "base_uri": "https://localhost:8080/"
        },
        "id": "vxoVUHbIt_rh",
        "outputId": "2aaa8404-ab2a-4ca6-be5c-8225a94d33cc"
      },
      "source": [
        "#Criamos o modelo e alimentamos nossos dados a ele:\n",
        "modelo = LinearRegression()\n",
        "modelo.fit(x,y)"
      ],
      "execution_count": null,
      "outputs": [
        {
          "output_type": "execute_result",
          "data": {
            "text/plain": [
              "LinearRegression(copy_X=True, fit_intercept=True, n_jobs=None, normalize=False)"
            ]
          },
          "metadata": {
            "tags": []
          },
          "execution_count": 19
        }
      ]
    },
    {
      "cell_type": "code",
      "metadata": {
        "colab": {
          "base_uri": "https://localhost:8080/"
        },
        "id": "W4gy_FHquDsn",
        "outputId": "52b449d6-9c35-472a-ffd6-e91d70899372"
      },
      "source": [
        "#Agora para realizar qualquer previsão podemos utilizar:\n",
        "modelo.predict([[1000]])"
      ],
      "execution_count": null,
      "outputs": [
        {
          "output_type": "execute_result",
          "data": {
            "text/plain": [
              "array([1240.76215819])"
            ]
          },
          "metadata": {
            "tags": []
          },
          "execution_count": 25
        }
      ]
    },
    {
      "cell_type": "code",
      "metadata": {
        "colab": {
          "base_uri": "https://localhost:8080/",
          "height": 282
        },
        "id": "b9epYTnr1jmI",
        "outputId": "f56558ac-0238-4b24-c081-b1283923fe6f"
      },
      "source": [
        "# Geração do gráfico com os pontos reais e as previsões\n",
        "plt.scatter(x, y)\n",
        "plt.plot(x, modelo.predict(x), color = 'red')"
      ],
      "execution_count": 36,
      "outputs": [
        {
          "output_type": "execute_result",
          "data": {
            "text/plain": [
              "[<matplotlib.lines.Line2D at 0x7f34786edd90>]"
            ]
          },
          "metadata": {
            "tags": []
          },
          "execution_count": 36
        },
        {
          "output_type": "display_data",
          "data": {
            "image/png": "[encoded data removed]",
            "text/plain": [
              "<Figure size 432x288 with 1 Axes>"
            ]
          },
          "metadata": {
            "tags": [],
            "needs_background": "light"
          }
        }
      ]
    },
    {
      "cell_type": "markdown",
      "metadata": {
        "id": "Ig7VKT55vUWI"
      },
      "source": [
        "###statsmodels.formula.api"
      ]
    },
    {
      "cell_type": "code",
      "metadata": {
        "colab": {
          "base_uri": "https://localhost:8080/",
          "height": 459
        },
        "id": "RTAxZ_pou2S4",
        "outputId": "5650bf84-c45a-447f-d403-dd4e0f2af04f"
      },
      "source": [
        "#Criação do modelo através da biblioteca:\n",
        "modelo_ajustado = sm.ols(formula = 'CusInic ~FrqAnual', data = dados)\n",
        "modelo_treinado = modelo_ajustado.fit() #Não é necessario fornecer dados, pois ja foram fornecidos na criação do modelo\n",
        "modelo_treinado.summary()"
      ],
      "execution_count": null,
      "outputs": [
        {
          "output_type": "execute_result",
          "data": {
            "text/html": [
              "<table class=\"simpletable\">\n",
              "<caption>OLS Regression Results</caption>\n",
              "<tr>\n",
              "  <th>Dep. Variable:</th>         <td>CusInic</td>     <th>  R-squared:         </th> <td>   0.228</td>\n",
              "</tr>\n",
              "<tr>\n",
              "  <th>Model:</th>                   <td>OLS</td>       <th>  Adj. R-squared:    </th> <td>   0.205</td>\n",
              "</tr>\n",
              "<tr>\n",
              "  <th>Method:</th>             <td>Least Squares</td>  <th>  F-statistic:       </th> <td>   10.01</td>\n",
              "</tr>\n",
              "<tr>\n",
              "  <th>Date:</th>             <td>Mon, 10 May 2021</td> <th>  Prob (F-statistic):</th>  <td>0.00327</td>\n",
              "</tr>\n",
              "<tr>\n",
              "  <th>Time:</th>                 <td>19:37:12</td>     <th>  Log-Likelihood:    </th> <td> -219.47</td>\n",
              "</tr>\n",
              "<tr>\n",
              "  <th>No. Observations:</th>      <td>    36</td>      <th>  AIC:               </th> <td>   442.9</td>\n",
              "</tr>\n",
              "<tr>\n",
              "  <th>Df Residuals:</th>          <td>    34</td>      <th>  BIC:               </th> <td>   446.1</td>\n",
              "</tr>\n",
              "<tr>\n",
              "  <th>Df Model:</th>              <td>     1</td>      <th>                     </th>     <td> </td>   \n",
              "</tr>\n",
              "<tr>\n",
              "  <th>Covariance Type:</th>      <td>nonrobust</td>    <th>                     </th>     <td> </td>   \n",
              "</tr>\n",
              "</table>\n",
              "<table class=\"simpletable\">\n",
              "<tr>\n",
              "      <td></td>         <th>coef</th>     <th>std err</th>      <th>t</th>      <th>P>|t|</th>  <th>[0.025</th>    <th>0.975]</th>  \n",
              "</tr>\n",
              "<tr>\n",
              "  <th>Intercept</th> <td>  867.6042</td> <td>  135.071</td> <td>    6.423</td> <td> 0.000</td> <td>  593.107</td> <td> 1142.102</td>\n",
              "</tr>\n",
              "<tr>\n",
              "  <th>FrqAnual</th>  <td>    0.3732</td> <td>    0.118</td> <td>    3.165</td> <td> 0.003</td> <td>    0.134</td> <td>    0.613</td>\n",
              "</tr>\n",
              "</table>\n",
              "<table class=\"simpletable\">\n",
              "<tr>\n",
              "  <th>Omnibus:</th>       <td>32.231</td> <th>  Durbin-Watson:     </th> <td>   1.740</td>\n",
              "</tr>\n",
              "<tr>\n",
              "  <th>Prob(Omnibus):</th> <td> 0.000</td> <th>  Jarque-Bera (JB):  </th> <td>  96.481</td>\n",
              "</tr>\n",
              "<tr>\n",
              "  <th>Skew:</th>          <td> 1.975</td> <th>  Prob(JB):          </th> <td>1.12e-21</td>\n",
              "</tr>\n",
              "<tr>\n",
              "  <th>Kurtosis:</th>      <td> 9.979</td> <th>  Cond. No.          </th> <td>8.39e+03</td>\n",
              "</tr>\n",
              "</table><br/><br/>Warnings:<br/>[1] Standard Errors assume that the covariance matrix of the errors is correctly specified.<br/>[2] The condition number is large, 8.39e+03. This might indicate that there are<br/>strong multicollinearity or other numerical problems."
            ],
            "text/plain": [
              "<class 'statsmodels.iolib.summary.Summary'>\n",
              "\"\"\"\n",
              "                            OLS Regression Results                            \n",
              "==============================================================================\n",
              "Dep. Variable:                CusInic   R-squared:                       0.228\n",
              "Model:                            OLS   Adj. R-squared:                  0.205\n",
              "Method:                 Least Squares   F-statistic:                     10.01\n",
              "Date:                Mon, 10 May 2021   Prob (F-statistic):            0.00327\n",
              "Time:                        19:37:12   Log-Likelihood:                -219.47\n",
              "No. Observations:                  36   AIC:                             442.9\n",
              "Df Residuals:                      34   BIC:                             446.1\n",
              "Df Model:                           1                                         \n",
              "Covariance Type:            nonrobust                                         \n",
              "==============================================================================\n",
              "                 coef    std err          t      P>|t|      [0.025      0.975]\n",
              "------------------------------------------------------------------------------\n",
              "Intercept    867.6042    135.071      6.423      0.000     593.107    1142.102\n",
              "FrqAnual       0.3732      0.118      3.165      0.003       0.134       0.613\n",
              "==============================================================================\n",
              "Omnibus:                       32.231   Durbin-Watson:                   1.740\n",
              "Prob(Omnibus):                  0.000   Jarque-Bera (JB):               96.481\n",
              "Skew:                           1.975   Prob(JB):                     1.12e-21\n",
              "Kurtosis:                       9.979   Cond. No.                     8.39e+03\n",
              "==============================================================================\n",
              "\n",
              "Warnings:\n",
              "[1] Standard Errors assume that the covariance matrix of the errors is correctly specified.\n",
              "[2] The condition number is large, 8.39e+03. This might indicate that there are\n",
              "strong multicollinearity or other numerical problems.\n",
              "\"\"\""
            ]
          },
          "metadata": {
            "tags": []
          },
          "execution_count": 31
        }
      ]
    },
    {
      "cell_type": "markdown",
      "metadata": {
        "id": "xFHAGsr8xmli"
      },
      "source": [
        "Podemos então substituir valores na equação da reta:\n",
        "\n",
        "$p = b + (m * v)$\n",
        " \n",
        "\n",
        "**$p$** é a previsão desejada;  \n",
        "**$b$** é a intercecção com o eixo 0;  \n",
        "**$m$** é o coeficiente angular da reta.  "
      ]
    },
    {
      "cell_type": "code",
      "metadata": {
        "colab": {
          "base_uri": "https://localhost:8080/"
        },
        "id": "2rwllO7LwuJ6",
        "outputId": "ee01f416-aef4-40f8-faee-4369714a8c00"
      },
      "source": [
        "867.6042 + 0.3732 * 1000 #Mesmo valor utilizado na previsão anterior"
      ],
      "execution_count": null,
      "outputs": [
        {
          "output_type": "execute_result",
          "data": {
            "text/plain": [
              "1240.8042"
            ]
          },
          "metadata": {
            "tags": []
          },
          "execution_count": 32
        }
      ]
    }
  ]
}