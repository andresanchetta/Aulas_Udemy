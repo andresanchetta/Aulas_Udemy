{
  "nbformat": 4,
  "nbformat_minor": 0,
  "metadata": {
    "colab": {
      "name": "K-Means.ipynb",
      "provenance": [],
      "authorship_tag": "ABX9TyMR4LoZh+lTT85qgBczriPj",
      "include_colab_link": true
    },
    "kernelspec": {
      "name": "python3",
      "display_name": "Python 3"
    },
    "language_info": {
      "name": "python"
    }
  },
  "cells": [
    {
      "cell_type": "markdown",
      "metadata": {
        "id": "view-in-github",
        "colab_type": "text"
      },
      "source": [
        "<a href=\"https://colab.research.google.com/github/andresanchetta/Aulas_Udemy/blob/main/K_Means.ipynb\" target=\"_parent\"><img src=\"https://colab.research.google.com/assets/colab-badge.svg\" alt=\"Open In Colab\"/></a>"
      ]
    },
    {
      "cell_type": "code",
      "metadata": {
        "id": "g01bUcgaNAmd"
      },
      "source": [
        "# Importação das bibliotecas\n",
        "from sklearn import datasets\n",
        "import numpy as np\n",
        "from sklearn.metrics import confusion_matrix\n",
        "import matplotlib.pyplot as plt\n",
        "from sklearn.cluster import KMeans"
      ],
      "execution_count": 1,
      "outputs": []
    },
    {
      "cell_type": "code",
      "metadata": {
        "colab": {
          "base_uri": "https://localhost:8080/"
        },
        "id": "bnGgqLzLNHJ_",
        "outputId": "9de2fff4-a8a6-4483-bc11-3a6e46e1f1ae"
      },
      "source": [
        "# Carregamento da base de dados ja presente no Sklearn\n",
        "iris = datasets.load_iris()\n",
        "# visualização de quantos registros existem por classe\n",
        "unicos, quantidade = np.unique(iris.target, return_counts = True)\n",
        "unicos"
      ],
      "execution_count": 2,
      "outputs": [
        {
          "output_type": "execute_result",
          "data": {
            "text/plain": [
              "array([0, 1, 2])"
            ]
          },
          "metadata": {
            "tags": []
          },
          "execution_count": 2
        }
      ]
    },
    {
      "cell_type": "code",
      "metadata": {
        "colab": {
          "base_uri": "https://localhost:8080/"
        },
        "id": "B3F94bQXNQQX",
        "outputId": "1bd3b486-3cfc-4182-8195-01b2e84e7b05"
      },
      "source": [
        "quantidade"
      ],
      "execution_count": 3,
      "outputs": [
        {
          "output_type": "execute_result",
          "data": {
            "text/plain": [
              "array([50, 50, 50])"
            ]
          },
          "metadata": {
            "tags": []
          },
          "execution_count": 3
        }
      ]
    },
    {
      "cell_type": "code",
      "metadata": {
        "colab": {
          "base_uri": "https://localhost:8080/"
        },
        "id": "5MLf6m4jNU0X",
        "outputId": "c1a72179-4491-4887-8935-1fb1545c582e"
      },
      "source": [
        "# Agrupamento com k-means, utilizando 3 clusters (de acordo com a base de dados)\n",
        "cluster = KMeans(n_clusters = 3)\n",
        "cluster.fit(iris.data)"
      ],
      "execution_count": 4,
      "outputs": [
        {
          "output_type": "execute_result",
          "data": {
            "text/plain": [
              "KMeans(algorithm='auto', copy_x=True, init='k-means++', max_iter=300,\n",
              "       n_clusters=3, n_init=10, n_jobs=None, precompute_distances='auto',\n",
              "       random_state=None, tol=0.0001, verbose=0)"
            ]
          },
          "metadata": {
            "tags": []
          },
          "execution_count": 4
        }
      ]
    },
    {
      "cell_type": "code",
      "metadata": {
        "colab": {
          "base_uri": "https://localhost:8080/"
        },
        "id": "nnu0v7ZoNYd2",
        "outputId": "938845cc-cca5-4b98-eb7f-33ce594317e8"
      },
      "source": [
        "# Visualização dos três centroides\n",
        "centroides = cluster.cluster_centers_\n",
        "centroides"
      ],
      "execution_count": 6,
      "outputs": [
        {
          "output_type": "execute_result",
          "data": {
            "text/plain": [
              "array([[5.9016129 , 2.7483871 , 4.39354839, 1.43387097],\n",
              "       [5.006     , 3.428     , 1.462     , 0.246     ],\n",
              "       [6.85      , 3.07368421, 5.74210526, 2.07105263]])"
            ]
          },
          "metadata": {
            "tags": []
          },
          "execution_count": 6
        }
      ]
    },
    {
      "cell_type": "code",
      "metadata": {
        "colab": {
          "base_uri": "https://localhost:8080/"
        },
        "id": "auK-briUNcSH",
        "outputId": "1134bab2-a1e8-4c0f-ce2d-345ba522a706"
      },
      "source": [
        "# Visualização dos grupos que cada registro foi associado\n",
        "previsoes = cluster.labels_\n",
        "previsoes"
      ],
      "execution_count": 7,
      "outputs": [
        {
          "output_type": "execute_result",
          "data": {
            "text/plain": [
              "array([1, 1, 1, 1, 1, 1, 1, 1, 1, 1, 1, 1, 1, 1, 1, 1, 1, 1, 1, 1, 1, 1,\n",
              "       1, 1, 1, 1, 1, 1, 1, 1, 1, 1, 1, 1, 1, 1, 1, 1, 1, 1, 1, 1, 1, 1,\n",
              "       1, 1, 1, 1, 1, 1, 0, 0, 2, 0, 0, 0, 0, 0, 0, 0, 0, 0, 0, 0, 0, 0,\n",
              "       0, 0, 0, 0, 0, 0, 0, 0, 0, 0, 0, 2, 0, 0, 0, 0, 0, 0, 0, 0, 0, 0,\n",
              "       0, 0, 0, 0, 0, 0, 0, 0, 0, 0, 0, 0, 2, 0, 2, 2, 2, 2, 0, 2, 2, 2,\n",
              "       2, 2, 2, 0, 0, 2, 2, 2, 2, 0, 2, 0, 2, 0, 2, 2, 0, 0, 2, 2, 2, 2,\n",
              "       2, 0, 2, 2, 2, 2, 0, 2, 2, 2, 0, 2, 2, 2, 0, 2, 2, 0], dtype=int32)"
            ]
          },
          "metadata": {
            "tags": []
          },
          "execution_count": 7
        }
      ]
    },
    {
      "cell_type": "code",
      "metadata": {
        "colab": {
          "base_uri": "https://localhost:8080/"
        },
        "id": "pyrcl1FQNcz3",
        "outputId": "9a794c5b-e076-48a2-ff38-eb66c0259120"
      },
      "source": [
        "# Contagem dos registros por classe\n",
        "unicos2, quantidade2 = np.unique(previsoes, return_counts = True)\n",
        "unicos2"
      ],
      "execution_count": 8,
      "outputs": [
        {
          "output_type": "execute_result",
          "data": {
            "text/plain": [
              "array([0, 1, 2], dtype=int32)"
            ]
          },
          "metadata": {
            "tags": []
          },
          "execution_count": 8
        }
      ]
    },
    {
      "cell_type": "code",
      "metadata": {
        "colab": {
          "base_uri": "https://localhost:8080/"
        },
        "id": "Qy0cJDZsNfju",
        "outputId": "a2d7e10f-354e-45dd-c345-9582c34e9b1d"
      },
      "source": [
        "quantidade2"
      ],
      "execution_count": 10,
      "outputs": [
        {
          "output_type": "execute_result",
          "data": {
            "text/plain": [
              "array([62, 50, 38])"
            ]
          },
          "metadata": {
            "tags": []
          },
          "execution_count": 10
        }
      ]
    },
    {
      "cell_type": "markdown",
      "metadata": {
        "id": "jDBANWj2OB1u"
      },
      "source": [
        "Podemos concluir quehouve erro de classificação que desbalanceou 2 das classes, se analisarmos graficamente poderemos visualizar melhor o motivo."
      ]
    },
    {
      "cell_type": "code",
      "metadata": {
        "colab": {
          "base_uri": "https://localhost:8080/"
        },
        "id": "yvw1EQGZNjXn",
        "outputId": "c7cb1ed2-af08-4744-d05f-0bc6c51f3d45"
      },
      "source": [
        "# Geração da matriz de contingência para comparar os grupos com a base de dados\n",
        "resultados = confusion_matrix(iris.target, previsoes)\n",
        "resultados"
      ],
      "execution_count": 12,
      "outputs": [
        {
          "output_type": "execute_result",
          "data": {
            "text/plain": [
              "array([[ 0, 50,  0],\n",
              "       [48,  0,  2],\n",
              "       [14,  0, 36]])"
            ]
          },
          "metadata": {
            "tags": []
          },
          "execution_count": 12
        }
      ]
    },
    {
      "cell_type": "code",
      "metadata": {
        "colab": {
          "base_uri": "https://localhost:8080/",
          "height": 286
        },
        "id": "aCQIacHbNjtn",
        "outputId": "02ddde65-f6a2-4af8-91f5-007a075c49b2"
      },
      "source": [
        "# Geração do gráfico com os clusters gerados, considerando para um (previsoes 0, 1 ou 2)\n",
        "# Usamos somente as colunas 0 e 1 da base de dados original para termos 2 dimensões\n",
        "plt.scatter(iris.data[previsoes == 0, 0], iris.data[previsoes == 0, 1], \n",
        "            c = 'green', label = 'Setosa')\n",
        "plt.scatter(iris.data[previsoes == 1, 0], iris.data[previsoes == 1, 1], \n",
        "            c = 'red', label = 'Versicolor')\n",
        "plt.scatter(iris.data[previsoes == 2, 0], iris.data[previsoes == 2, 1], \n",
        "            c = 'blue', label = 'Virgica')\n",
        "plt.legend()"
      ],
      "execution_count": 13,
      "outputs": [
        {
          "output_type": "execute_result",
          "data": {
            "text/plain": [
              "<matplotlib.legend.Legend at 0x7ffa35352e50>"
            ]
          },
          "metadata": {
            "tags": []
          },
          "execution_count": 13
        },
        {
          "output_type": "display_data",
          "data": {
            "image/png": "[encoded data removed]",
            "text/plain": [
              "<Figure size 432x288 with 1 Axes>"
            ]
          },
          "metadata": {
            "tags": [],
            "needs_background": "light"
          }
        }
      ]
    },
    {
      "cell_type": "markdown",
      "metadata": {
        "id": "wGZ3Lz1kNwjW"
      },
      "source": [
        "Analisando o gráfico podemos ver que apenas o grupo Versicolor se destaca dos demais, por isso foi previsto corretamente, os grupos Setosa e Virgínica por terem elementos próximos demais acabaram se misturando, gerando erros."
      ]
    }
  ]
}